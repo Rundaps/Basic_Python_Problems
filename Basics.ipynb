{
 "cells": [
  {
   "cell_type": "markdown",
   "metadata": {},
   "source": [
    "### 1. FizzBuzz\n",
    "Write a program that prints numbers from 1 to 100. For multiples of 3, print \"Fizz\" instead of the number; for multiples of 5, print \"Buzz.\" For numbers that are multiples of both 3 and 5, print \"FizzBuzz.\""
   ]
  },
  {
   "cell_type": "code",
   "execution_count": null,
   "metadata": {},
   "outputs": [],
   "source": [
    "import random\n",
    "import time\n",
    "import pandas as pd\n",
    "import seaborn as sns\n"
   ]
  },
  {
   "cell_type": "code",
   "execution_count": null,
   "metadata": {},
   "outputs": [],
   "source": [
    "def fizzbuzz(lst):\n",
    "    for j in lst:\n",
    "        if j % 3 == 0 and j % 5 == 0:\n",
    "            print('FizzBuzz')\n",
    "        if j % 3 == 0:\n",
    "            print('Fizz')\n",
    "        if  j % 5 == 0:\n",
    "            print('Buzz')\n",
    "        else: print(j)\n",
    "\n",
    "numbers = list(range(1, 101))\n",
    "fizzbuzz(numbers)"
   ]
  },
  {
   "cell_type": "markdown",
   "metadata": {},
   "source": [
    "### 2. Prime Number Checker\n",
    "Ask the user for a number and determine if it’s a prime number."
   ]
  },
  {
   "cell_type": "code",
   "execution_count": null,
   "metadata": {},
   "outputs": [],
   "source": [
    "def prime(numb = int):\n",
    "    end = numb - 1\n",
    "    while end != 1:\n",
    "        if numb % end != 0:\n",
    "            end = end - 1\n",
    "        else: \n",
    "            return f'Not Prime number'\n",
    "            break\n",
    "    if end == 1:\n",
    "        return f'Prime number'\n",
    "\n",
    "def nonprime(numb = int):\n",
    "    start = 2\n",
    "    while start < numb:\n",
    "        if numb % start == 0:\n",
    "            return f'Not Prime number'\n",
    "            break\n",
    "        else: \n",
    "            start = start + 1  \n",
    "    if start == numb:\n",
    "        return f'Prime number'\n",
    "\n",
    "df_prime_nonprime = pd.DataFrame()\n",
    "test_number = list(range(2, 1000))\n",
    "df_prime_nonprime['Skaicius'] = test_number\n",
    "col_prime = []\n",
    "col_nonprime = []\n",
    "nonprime_return = []\n",
    "prime_return = []\n",
    "\n",
    "for j in test_number:\n",
    "    start = time.time()\n",
    "    nonprime(j)\n",
    "    end = time.time()\n",
    "    # print(nonprime(j))\n",
    "    nonprime_return.append(f'{end - start:.8f}')\n",
    "    col_nonprime.append(nonprime(j))\n",
    "\n",
    "df_prime_nonprime['NonPrime'] = col_nonprime \n",
    "df_prime_nonprime['Non_prime, s'] = nonprime_return\n",
    "\n",
    "for i in test_number:\n",
    "    start2 = time.time()\n",
    "    prime(i)\n",
    "    end2 = time.time()\n",
    "    prime_return.append(f'{end2 - start2:.8f}')\n",
    "    col_prime.append(prime(i))\n",
    "\n",
    "df_prime_nonprime['Prime, s'] = prime_return\n",
    "df_prime_nonprime['Prime/NonPrime2'] = col_prime\n",
    "\n",
    "# print(df_prime_nonprime[df_prime_nonprime['NonPrime'] == 'Prime number'])\n",
    "\n",
    "print(df_prime_nonprime)"
   ]
  },
  {
   "cell_type": "code",
   "execution_count": null,
   "metadata": {},
   "outputs": [],
   "source": [
    "df_prime_nonprime['Non_prime, s'] = pd.to_numeric(df_prime_nonprime['Non_prime, s'])\n",
    "df_prime_nonprime['Prime, s'] = pd.to_numeric(df_prime_nonprime['Prime, s'])"
   ]
  },
  {
   "cell_type": "code",
   "execution_count": null,
   "metadata": {},
   "outputs": [],
   "source": [
    "sum(df_prime_nonprime['Non_prime, s'])\n",
    "sum(df_prime_nonprime['Prime, s'])"
   ]
  },
  {
   "cell_type": "code",
   "execution_count": null,
   "metadata": {},
   "outputs": [],
   "source": [
    "sum(df_prime_nonprime['Non_prime, s'])"
   ]
  },
  {
   "cell_type": "code",
   "execution_count": null,
   "metadata": {},
   "outputs": [],
   "source": [
    "prime_df = df_prime_nonprime[df_prime_nonprime['NonPrime'] == 'Prime number']"
   ]
  },
  {
   "cell_type": "code",
   "execution_count": null,
   "metadata": {},
   "outputs": [],
   "source": [
    "sns.scatterplot(data=df_prime_nonprime, x='Skaicius', y='Non_prime, s')"
   ]
  },
  {
   "cell_type": "code",
   "execution_count": null,
   "metadata": {},
   "outputs": [],
   "source": [
    "sns.scatterplot(data=df_prime_nonprime, x='Skaicius', y='Prime, s')"
   ]
  },
  {
   "cell_type": "code",
   "execution_count": null,
   "metadata": {},
   "outputs": [],
   "source": [
    "import matplotlib.pyplot as plt\n",
    "import seaborn as sns\n",
    "\n",
    "# Sample scatter plot with Seaborn\n",
    "plt.figure(figsize=(10, 6))\n",
    "scatter = sns.scatterplot(data=df_prime_nonprime, x='Skaicius', y='Non_prime, s')\n",
    "\n",
    "# Annotate each point with its value\n",
    "for i, row in df_prime_nonprime.iterrows():\n",
    "    plt.text(row['Skaicius'], row['Non_prime, s'], str(row['Skaicius']),\n",
    "             ha='center', va='center', fontsize=9, color='black')\n",
    "\n",
    "plt.show()"
   ]
  },
  {
   "cell_type": "code",
   "execution_count": null,
   "metadata": {},
   "outputs": [],
   "source": [
    "# Sample scatter plot with Seaborn\n",
    "plt.figure(figsize=(10, 6))\n",
    "scatter2 = sns.scatterplot(data=df_prime_nonprime, x='Skaicius', y='Prime, s')\n",
    "\n",
    "# Annotate each point with its value\n",
    "for i, row in df_prime_nonprime.iterrows():\n",
    "    plt.text(row['Skaicius'], row['Prime, s'], str(row['Skaicius']),\n",
    "             ha='center', va='center', fontsize=9, color='black')"
   ]
  },
  {
   "cell_type": "code",
   "execution_count": null,
   "metadata": {},
   "outputs": [],
   "source": [
    "numb = 3\n",
    "print(prime(numb))"
   ]
  },
  {
   "cell_type": "markdown",
   "metadata": {},
   "source": [
    "### 3. Rock, Paper, Scissors Game\n",
    "Write a program where the user plays rock, paper, scissors against the computer. The computer randomly selects a choice, and the user inputs their choice. The program announces the winner.\n"
   ]
  },
  {
   "cell_type": "code",
   "execution_count": null,
   "metadata": {},
   "outputs": [],
   "source": [
    "def RPS (rps_user):\n",
    "    rps_user \n",
    "    rps_computer = random.random(\"rock\", 'paper', 'scissors')\n",
    "    return \n",
    "\n",
    "start = time.time()\n",
    "\n",
    "user = input('Choose rock, paper, scissors')\n",
    "print(RPS(user))\n",
    "end = time.time()\n",
    "print(end - start)"
   ]
  },
  {
   "cell_type": "markdown",
   "metadata": {},
   "source": [
    "### 4. Converts Arabic numbers to Roman"
   ]
  },
  {
   "cell_type": "code",
   "execution_count": null,
   "metadata": {},
   "outputs": [
    {
     "name": "stdout",
     "output_type": "stream",
     "text": [
      "CMXCIX\n"
     ]
    }
   ],
   "source": [
    "def romanizer(i, one, five, ten):\n",
    "   \n",
    "    if i == 0:\n",
    "        a = ''\n",
    "    if 1 <= i <= 3:\n",
    "        a = one*i\n",
    "    if i == 4:\n",
    "        a = one+five \n",
    "    if i == 5:\n",
    "        a = five\n",
    "    if 5 < i <=8 :\n",
    "        a = five+one*(i-5)\n",
    "    if i == 9:\n",
    "        a = one+ten\n",
    "    if i == 10:\n",
    "        a = ten\n",
    "    return a\n",
    "\n",
    "sk = 999\n",
    "iter = 1\n",
    "listas = list(str(sk))\n",
    "listas.reverse()\n",
    "ats1, ats2, ats3 = '','',''\n",
    "for j in listas:    \n",
    "    if iter == 1:\n",
    "        one = 'I'\n",
    "        five = 'V'\n",
    "        ten = 'X'\n",
    "        ats1 = romanizer(int(j), one, five, ten)\n",
    "        # iter = iter + 1\n",
    "    if iter == 2:\n",
    "        one = 'X'\n",
    "        five = 'L' \n",
    "        ten = 'C'\n",
    "        ats2 = romanizer(int(j), one, five, ten)\n",
    "    if iter == 3:\n",
    "        one = 'C'\n",
    "        five = 'D' \n",
    "        ten = 'M'\n",
    "        ats3 = romanizer(int(j), one, five, ten)\n",
    "    iter = iter + 1\n",
    "print(ats3+ats2+ats1)"
   ]
  },
  {
   "cell_type": "markdown",
   "metadata": {},
   "source": [
    "### 5. Finds lowest bid sum for multiple projects."
   ]
  },
  {
   "cell_type": "code",
   "execution_count": 17,
   "metadata": {},
   "outputs": [
    {
     "data": {
      "text/plain": [
       "20"
      ]
     },
     "execution_count": 17,
     "metadata": {},
     "output_type": "execute_result"
    }
   ],
   "source": [
    "def minCost(numProjects, projectId, bid):\n",
    "    min_cost = []\n",
    "    while numProjects != -1:\n",
    "        a = []\n",
    "        a = [i for i, j in enumerate(projectId) if j == numProjects]\n",
    "        bid_list = []\n",
    "        for indx in a:\n",
    "            bid_list.append(bid[indx])\n",
    "           \n",
    "        min_cost.append(min(bid_list))\n",
    "        numProjects = numProjects - 1\n",
    " \n",
    "    return sum(min_cost)\n",
    "          \n",
    "\n",
    "n = 3\n",
    "prj = [0, 1, 3 , 2, 0]\n",
    "bid = [2, 5, 10, 3, 7]\n",
    "minCost(n, prj, bid)\n"
   ]
  },
  {
   "cell_type": "markdown",
   "metadata": {},
   "source": [
    "\n",
    "\n",
    "4. Shopping List Manager\n",
    "\n",
    "    Build a simple shopping list program. The user can add, remove, or view items in their shopping list. Let the program run until the user decides to exit.\n",
    "    Concepts: Lists, loops, user input, functions.\n",
    "\n",
    "5. Counting Vowels in a String\n",
    "\n",
    "    Ask the user for a sentence and count how many vowels (a, e, i, o, u) are in the string. Ignore case sensitivity.\n",
    "    Concepts: Strings, loops, conditionals.\n",
    "\n",
    "6. Sentence Capitalizer\n",
    "\n",
    "    Write a program that takes a sentence and capitalizes the first letter of each word.\n",
    "    Concepts: String manipulation, loops, functions.\n",
    "\n",
    "7. Temperature Converter\n",
    "\n",
    "    Create a program that converts a temperature from Celsius to Fahrenheit or Fahrenheit to Celsius based on user choice.\n",
    "    Concepts: Functions, user input, arithmetic.\n",
    "\n",
    "8. Word Frequency Counter\n",
    "\n",
    "    Ask the user for a sentence and count the frequency of each word. Print the word and its frequency in descending order.\n",
    "    Concepts: Dictionaries, loops, string manipulation, sorting.\n",
    "\n",
    "9. Caesar Cipher\n",
    "\n",
    "    Implement a simple Caesar cipher that shifts each letter in a given message by a certain number of positions. Ask the user for the shift value and whether they want to encrypt or decrypt a message.\n",
    "    Concepts: String manipulation, ASCII, loops.\n",
    "\n",
    "10. Simple To-Do List Application\n",
    "\n",
    "    Create a command-line to-do list application. Allow the user to add tasks, mark tasks as complete, delete tasks, and view the list of tasks. Store tasks in a list or dictionary.\n",
    "    Concepts: Lists, dictionaries, loops, user input, functions.\n",
    "\n",
    "11. Factorial Calculator\n",
    "\n",
    "    Write a program that calculates the factorial of a given number.\n",
    "    Concepts: Loops or recursion, arithmetic.\n",
    "\n",
    "12. Palindrome Sentence Checker\n",
    "\n",
    "    Ask the user for a sentence and determine if it’s a palindrome, ignoring spaces, punctuation, and capitalization.\n",
    "    Concepts: String manipulation, loops, conditionals.\n",
    "\n",
    "13. Simple Interest and Compound Interest Calculator\n",
    "\n",
    "    Build a program that calculates both simple and compound interest based on user input for principal, rate, and time.\n",
    "    Concepts: Functions, arithmetic, user input.\n",
    "\n",
    "14. Binary to Decimal Converter\n",
    "\n",
    "    Write a program that converts a binary number (input as a string) to its decimal equivalent.\n",
    "    Concepts: Loops, basic number systems, arithmetic.\n",
    "\n",
    "15. Guess the Word Hangman Game\n",
    "\n",
    "    Implement a simple hangman game where the user tries to guess a randomly selected word letter-by-letter. Keep track of the number of incorrect guesses."
   ]
  }
 ],
 "metadata": {
  "kernelspec": {
   "display_name": "Python 3",
   "language": "python",
   "name": "python3"
  },
  "language_info": {
   "codemirror_mode": {
    "name": "ipython",
    "version": 3
   },
   "file_extension": ".py",
   "mimetype": "text/x-python",
   "name": "python",
   "nbconvert_exporter": "python",
   "pygments_lexer": "ipython3",
   "version": "3.12.4"
  }
 },
 "nbformat": 4,
 "nbformat_minor": 2
}

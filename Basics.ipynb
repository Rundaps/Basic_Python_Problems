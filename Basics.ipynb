{
 "cells": [
  {
   "cell_type": "markdown",
   "metadata": {},
   "source": [
    "### 1. FizzBuzz\n",
    "Write a program that prints numbers from 1 to 100. For multiples of 3, print \"Fizz\" instead of the number; for multiples of 5, print \"Buzz.\" For numbers that are multiples of both 3 and 5, print \"FizzBuzz.\""
   ]
  },
  {
   "cell_type": "code",
   "execution_count": null,
   "metadata": {},
   "outputs": [],
   "source": [
    "def fizzbuzz(lst):\n",
    "    for j in lst:\n",
    "        if j % 3 == 0 and j % 5 == 0:\n",
    "            print('FizzBuzz')\n",
    "        if j % 3 == 0:\n",
    "            print('Fizz')\n",
    "        if  j % 5 == 0:\n",
    "            print('Buzz')\n",
    "        else: print(j)\n",
    "\n",
    "numbers = list(range(1, 101))\n",
    "fizzbuzz(numbers)"
   ]
  },
  {
   "cell_type": "markdown",
   "metadata": {},
   "source": [
    "### 2. Prime Number Checker\n",
    "Ask the user for a number and determine if it’s a prime number."
   ]
  },
  {
   "cell_type": "code",
   "execution_count": null,
   "metadata": {},
   "outputs": [
    {
     "name": "stdout",
     "output_type": "stream",
     "text": [
      "2\n",
      "Not Prime number\n",
      "\n",
      "7\n",
      "6\n",
      "5\n",
      "Not Prime number\n"
     ]
    }
   ],
   "source": [
    "def prime(numb = int):\n",
    "    end = numb - 1\n",
    "    while end != 1:\n",
    "        if numb % end != 0:\n",
    "            end = end - 1\n",
    "        else: \n",
    "            print('Not Prime number')\n",
    "            break\n",
    "    if end == 1:\n",
    "        print('Prime number')\n",
    "\n",
    "def nonprime(numb = int):\n",
    "    start = 2\n",
    "    while start < numb:\n",
    "        if numb % start == 0:\n",
    "            print('Not Prime number')\n",
    "            break\n",
    "        else: \n",
    "            start = start + 1  \n",
    "    if start == numb:\n",
    "        print('Prime number')\n",
    "\n",
    "test_number = 8\n",
    "\n",
    "nonprime(test_number)\n",
    "print()\n",
    "prime(test_number)"
   ]
  }
 ],
 "metadata": {
  "kernelspec": {
   "display_name": "Python 3",
   "language": "python",
   "name": "python3"
  },
  "language_info": {
   "codemirror_mode": {
    "name": "ipython",
    "version": 3
   },
   "file_extension": ".py",
   "mimetype": "text/x-python",
   "name": "python",
   "nbconvert_exporter": "python",
   "pygments_lexer": "ipython3",
   "version": "3.12.4"
  }
 },
 "nbformat": 4,
 "nbformat_minor": 2
}
